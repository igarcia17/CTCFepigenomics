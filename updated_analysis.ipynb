{
 "cells": [
  {
   "cell_type": "markdown",
   "metadata": {},
   "source": [
    "<div style=\"font-weight: bold; color:#5D8AA8\" align=\"center\">\n",
    "    <div style=\"font-size: xx-large; color:gray\"> Initial analysis - Epigenomics Assignment </div><br> </center>"
   ]
  },
  {
   "cell_type": "code",
   "execution_count": 1,
   "metadata": {},
   "outputs": [],
   "source": [
    "import pandas as pd\n",
    "import numpy as np\n",
    "import matplotlib.pyplot as plt\n",
    "from IPython import display\n",
    "import os\n",
    "import warnings\n",
    "warnings.filterwarnings('ignore')"
   ]
  },
  {
   "cell_type": "markdown",
   "metadata": {},
   "source": [
    "### **Path setup**"
   ]
  },
  {
   "cell_type": "code",
   "execution_count": 2,
   "metadata": {},
   "outputs": [
    {
     "name": "stdout",
     "output_type": "stream",
     "text": [
      "Remember working directory: /home/ines/Escritorio/epigCTCF\n"
     ]
    }
   ],
   "source": [
    "# RUN THIS NOTEBOOK FROM THE Modelo_11_estados FOLDER!\n",
    "print(f\"Remember working directory: {os.getcwd()}\")\n",
    "input_folder=\"input/Modelo_11_estados\""
   ]
  },
  {
   "cell_type": "code",
   "execution_count": 3,
   "metadata": {},
   "outputs": [],
   "source": [
    "# !mkdir my_results"
   ]
  },
  {
   "cell_type": "markdown",
   "metadata": {},
   "source": [
    "### (1) **Analysis of the emission matrix**\n",
    "\n",
    "From [1], the values correspond to the probability of\n",
    "observing the mark of the column, conditioned on being in the state of the row."
   ]
  },
  {
   "cell_type": "code",
   "execution_count": 3,
   "metadata": {},
   "outputs": [
    {
     "data": {
      "image/png": "[encoded data removed]",
      "text/plain": [
       "<IPython.core.display.Image object>"
      ]
     },
     "execution_count": 3,
     "metadata": {},
     "output_type": "execute_result"
    }
   ],
   "source": [
    "# Emission Matrix\n",
    "display.Image(f\"{input_folder}/emissions_11_Master_11.png\")"
   ]
  },
  {
   "cell_type": "markdown",
   "metadata": {},
   "source": [
    "#### (1.1) **Reference chromatine state for insulators (CTCF)**\n",
    "\n",
    "***emissions_N.txt*** — This is a tab-delimited text file containing the emission parameters of the HMM. The first row is a header row\n",
    "indicating each mark used to define the model, and the first column indicates the state. The values correspond to the **probability of\n",
    "observing the mark of the column**, conditioned on being in the state of the row.\n",
    "\n",
    "We evaluate the emission matrix and decide which are the representative chromatine states for our epigenetic mark (CTCF)."
   ]
  },
  {
   "cell_type": "code",
   "execution_count": 4,
   "metadata": {},
   "outputs": [
    {
     "data": {
      "text/html": [
       "<div>\n",
       "<style scoped>\n",
       "    .dataframe tbody tr th:only-of-type {\n",
       "        vertical-align: middle;\n",
       "    }\n",
       "\n",
       "    .dataframe tbody tr th {\n",
       "        vertical-align: top;\n",
       "    }\n",
       "\n",
       "    .dataframe thead th {\n",
       "        text-align: right;\n",
       "    }\n",
       "</style>\n",
       "<table border=\"1\" class=\"dataframe\">\n",
       "  <thead>\n",
       "    <tr style=\"text-align: right;\">\n",
       "      <th></th>\n",
       "      <th>CTCF</th>\n",
       "      <th>H3K4me3</th>\n",
       "      <th>H3K27ac</th>\n",
       "      <th>H3K4me1</th>\n",
       "      <th>H3K27me3</th>\n",
       "      <th>H3K9me3</th>\n",
       "      <th>H3K36me3</th>\n",
       "    </tr>\n",
       "    <tr>\n",
       "      <th>state (Emission order)</th>\n",
       "      <th></th>\n",
       "      <th></th>\n",
       "      <th></th>\n",
       "      <th></th>\n",
       "      <th></th>\n",
       "      <th></th>\n",
       "      <th></th>\n",
       "    </tr>\n",
       "  </thead>\n",
       "  <tbody>\n",
       "    <tr>\n",
       "      <th>1</th>\n",
       "      <td>0.209389</td>\n",
       "      <td>0.969437</td>\n",
       "      <td>0.902838</td>\n",
       "      <td>0.079627</td>\n",
       "      <td>0.008275</td>\n",
       "      <td>0.002612</td>\n",
       "      <td>0.006032</td>\n",
       "    </tr>\n",
       "    <tr>\n",
       "      <th>2</th>\n",
       "      <td>0.091412</td>\n",
       "      <td>0.927374</td>\n",
       "      <td>0.981443</td>\n",
       "      <td>0.984251</td>\n",
       "      <td>0.004861</td>\n",
       "      <td>0.001057</td>\n",
       "      <td>0.025931</td>\n",
       "    </tr>\n",
       "    <tr>\n",
       "      <th>3</th>\n",
       "      <td>0.046216</td>\n",
       "      <td>0.095779</td>\n",
       "      <td>0.765510</td>\n",
       "      <td>0.823722</td>\n",
       "      <td>0.002787</td>\n",
       "      <td>0.002188</td>\n",
       "      <td>0.135051</td>\n",
       "    </tr>\n",
       "    <tr>\n",
       "      <th>4</th>\n",
       "      <td>0.018222</td>\n",
       "      <td>0.003675</td>\n",
       "      <td>0.073021</td>\n",
       "      <td>0.435898</td>\n",
       "      <td>0.007300</td>\n",
       "      <td>0.000315</td>\n",
       "      <td>0.006162</td>\n",
       "    </tr>\n",
       "    <tr>\n",
       "      <th>5</th>\n",
       "      <td>0.116682</td>\n",
       "      <td>0.718903</td>\n",
       "      <td>0.078272</td>\n",
       "      <td>0.785599</td>\n",
       "      <td>0.021810</td>\n",
       "      <td>0.002277</td>\n",
       "      <td>0.008994</td>\n",
       "    </tr>\n",
       "    <tr>\n",
       "      <th>6</th>\n",
       "      <td>0.140025</td>\n",
       "      <td>0.528463</td>\n",
       "      <td>0.035380</td>\n",
       "      <td>0.647790</td>\n",
       "      <td>0.919630</td>\n",
       "      <td>0.085764</td>\n",
       "      <td>0.006335</td>\n",
       "    </tr>\n",
       "    <tr>\n",
       "      <th>7</th>\n",
       "      <td>0.017177</td>\n",
       "      <td>0.000300</td>\n",
       "      <td>0.000117</td>\n",
       "      <td>0.003130</td>\n",
       "      <td>0.576015</td>\n",
       "      <td>0.019912</td>\n",
       "      <td>0.001637</td>\n",
       "    </tr>\n",
       "    <tr>\n",
       "      <th>8</th>\n",
       "      <td>0.010846</td>\n",
       "      <td>0.000454</td>\n",
       "      <td>0.000308</td>\n",
       "      <td>0.000512</td>\n",
       "      <td>0.013342</td>\n",
       "      <td>0.004657</td>\n",
       "      <td>0.001370</td>\n",
       "    </tr>\n",
       "    <tr>\n",
       "      <th>9</th>\n",
       "      <td>0.823642</td>\n",
       "      <td>0.010235</td>\n",
       "      <td>0.009349</td>\n",
       "      <td>0.065067</td>\n",
       "      <td>0.063280</td>\n",
       "      <td>0.001342</td>\n",
       "      <td>0.009285</td>\n",
       "    </tr>\n",
       "    <tr>\n",
       "      <th>10</th>\n",
       "      <td>0.018609</td>\n",
       "      <td>0.000568</td>\n",
       "      <td>0.046108</td>\n",
       "      <td>0.005078</td>\n",
       "      <td>0.004465</td>\n",
       "      <td>0.002681</td>\n",
       "      <td>0.624591</td>\n",
       "    </tr>\n",
       "    <tr>\n",
       "      <th>11</th>\n",
       "      <td>0.021427</td>\n",
       "      <td>0.074864</td>\n",
       "      <td>0.002655</td>\n",
       "      <td>0.001345</td>\n",
       "      <td>0.007091</td>\n",
       "      <td>0.505530</td>\n",
       "      <td>0.083565</td>\n",
       "    </tr>\n",
       "  </tbody>\n",
       "</table>\n",
       "</div>"
      ],
      "text/plain": [
       "                            CTCF   H3K4me3   H3K27ac   H3K4me1  H3K27me3  \\\n",
       "state (Emission order)                                                     \n",
       "1                       0.209389  0.969437  0.902838  0.079627  0.008275   \n",
       "2                       0.091412  0.927374  0.981443  0.984251  0.004861   \n",
       "3                       0.046216  0.095779  0.765510  0.823722  0.002787   \n",
       "4                       0.018222  0.003675  0.073021  0.435898  0.007300   \n",
       "5                       0.116682  0.718903  0.078272  0.785599  0.021810   \n",
       "6                       0.140025  0.528463  0.035380  0.647790  0.919630   \n",
       "7                       0.017177  0.000300  0.000117  0.003130  0.576015   \n",
       "8                       0.010846  0.000454  0.000308  0.000512  0.013342   \n",
       "9                       0.823642  0.010235  0.009349  0.065067  0.063280   \n",
       "10                      0.018609  0.000568  0.046108  0.005078  0.004465   \n",
       "11                      0.021427  0.074864  0.002655  0.001345  0.007091   \n",
       "\n",
       "                         H3K9me3  H3K36me3  \n",
       "state (Emission order)                      \n",
       "1                       0.002612  0.006032  \n",
       "2                       0.001057  0.025931  \n",
       "3                       0.002188  0.135051  \n",
       "4                       0.000315  0.006162  \n",
       "5                       0.002277  0.008994  \n",
       "6                       0.085764  0.006335  \n",
       "7                       0.019912  0.001637  \n",
       "8                       0.004657  0.001370  \n",
       "9                       0.001342  0.009285  \n",
       "10                      0.002681  0.624591  \n",
       "11                      0.505530  0.083565  "
      ]
     },
     "execution_count": 4,
     "metadata": {},
     "output_type": "execute_result"
    }
   ],
   "source": [
    "# Emission matrix file\n",
    "emission_matrix = pd.read_csv(f\"{input_folder}/emissions_11_Master_11.txt\", sep=\"\\t\", index_col=0, header=\"infer\")\n",
    "emission_matrix"
   ]
  },
  {
   "cell_type": "code",
   "execution_count": 5,
   "metadata": {},
   "outputs": [
    {
     "data": {
      "image/png": "[encoded data removed]",
      "text/plain": [
       "<Figure size 1080x504 with 1 Axes>"
      ]
     },
     "metadata": {
      "needs_background": "light"
     },
     "output_type": "display_data"
    }
   ],
   "source": [
    "# Plot\n",
    "fig = plt.figure(figsize=(15,7))\n",
    "plt.bar(emission_matrix.index, emission_matrix[\"CTCF\"], width=0.75)  # Select CTCF\n",
    "plt.ylabel(\"Prob. of belonging to given chr. state\", fontsize=14, fontweight='bold')\n",
    "plt.xlabel(\"Chromatine state\", fontsize=14, fontweight='bold')\n",
    "plt.xticks(emission_matrix.index, fontsize=12)\n",
    "plt.title(\"CTCF & representative chromatine states\", size=\"x-large\", fontweight='bold')\n",
    "plt.show()"
   ]
  },
  {
   "cell_type": "markdown",
   "metadata": {},
   "source": [
    "**Chromatine state 9** is clearly overrepresented for our CTCF mark, in comparison with the rest of states."
   ]
  },
  {
   "cell_type": "markdown",
   "metadata": {},
   "source": [
    "#### (1.2) **Further analysis of chr. state 9**\n",
    "\n",
    "Thus we specifically evaluated chromatine state 9 for the whole set of epigenetic marks in the emission matrix.\n"
   ]
  },
  {
   "cell_type": "code",
   "execution_count": 6,
   "metadata": {},
   "outputs": [
    {
     "data": {
      "image/png": "[encoded data removed]",
      "text/plain": [
       "<Figure size 1080x504 with 1 Axes>"
      ]
     },
     "metadata": {
      "needs_background": "light"
     },
     "output_type": "display_data"
    }
   ],
   "source": [
    "# Plot\n",
    "fig = plt.figure(figsize=(15,7))\n",
    "plt.bar(emission_matrix.columns, emission_matrix.loc[9], width=0.75)  # Select chr. state 9\n",
    "plt.axhline(y=0.1,linewidth=1, color='k')  # Threshold of 0.1\n",
    "plt.ylabel(\"Prob. of belonging for epigenetic mark\", fontsize=12, fontweight='bold')\n",
    "plt.xlabel(\"Epigenetic mark\", fontsize=12, fontweight='bold')\n",
    "plt.xticks(emission_matrix.columns, fontsize=12)\n",
    "plt.title(\"Chromatin State 9\", size=\"x-large\", fontweight='bold')\n",
    "plt.show()"
   ]
  },
  {
   "cell_type": "markdown",
   "metadata": {},
   "source": [
    "Given the last plot, the probability of belonging to E9 of any mark apart from CTCF is lower than 10%."
   ]
  },
  {
   "cell_type": "markdown",
   "metadata": {},
   "source": [
    "### (2) **Task 1: Obtain the common segments of interest**"
   ]
  },
  {
   "cell_type": "markdown",
   "metadata": {},
   "source": [
    "Given the last analysis of states, we decided to focus on **chr. state 9**. Thus the procedure was:\n",
    "\n",
    "1) **Filtering** both segment (*bed*) files **by chromatin state**, keeping only those segments with feature = \"E9\".\n",
    "\n",
    "2) **Obtaining common segments** by means of the *intersect* utility from `bedtools`, with the last filtered *bed* files for both replicates."
   ]
  },
  {
   "cell_type": "markdown",
   "metadata": {},
   "source": [
    "#### (2.1) **Filtering of common segments by our chromatine mark of reference**\n",
    "\n",
    "First, we filter the original segment (*bed*) files from both replicates (Monocyte1, Monocyte2) by state \"E9\"."
   ]
  },
  {
   "cell_type": "code",
   "execution_count": 7,
   "metadata": {},
   "outputs": [],
   "source": [
    "# Note folder my_results to store filtered segments bed files\n",
    "def filter_segments_by_state(filename, states_of_interest, colum_to_filter_by, replicate, output_folder=\".\"):\n",
    "    \n",
    "    # Read bed file\n",
    "    segments = pd.read_csv(f\"{filename}\", sep=\"\\t\", index_col=None, header=None)\n",
    "    \n",
    "    # Filtering of common segments according to chromatine states for CTCF\n",
    "    filtered_segments = segments[segments[colum_to_filter_by].isin(states_of_interest)]\n",
    "    \n",
    "    # To CSV\n",
    "    filtered_segments.to_csv(f\"{output_folder}/filtered_segments{replicate}.bed\", sep=\"\\t\", index=False, header=False)\n",
    "    \n",
    "    return filtered_segments"
   ]
  },
  {
   "cell_type": "code",
   "execution_count": 8,
   "metadata": {},
   "outputs": [],
   "source": [
    "# Filtering of common segments according to chromatine states for CTCF\n",
    "segments1 = f\"{input_folder}/Monocyte1_11_Master_11_segments.bed\"\n",
    "rep1 = 1\n",
    "segments2 = f\"{input_folder}/Monocyte2_11_Master_11_segments.bed\"\n",
    "rep2 = 2\n",
    "\n",
    "# We have decided to only use chr. state 9\n",
    "states_of_interest = [\"E9\"]\n",
    "\n",
    "# Column 3 in bed file is chr.state (actually 4, but 0-based indexing)\n",
    "colum_to_filter_by = 3\n",
    "\n",
    "# My output folder, yours might be different!\n",
    "output_folder=\"my_results\""
   ]
  },
  {
   "cell_type": "code",
   "execution_count": 9,
   "metadata": {},
   "outputs": [
    {
     "name": "stdout",
     "output_type": "stream",
     "text": [
      "Number of segments for replicate 1 in filtered bed file: 22479.\n",
      "Number of segments for replicate 2 in filtered bed file: 24429.\n",
      "Difference: 1950\n"
     ]
    }
   ],
   "source": [
    "filtered_segments1 = filter_segments_by_state(segments1, states_of_interest, colum_to_filter_by, replicate=rep1, output_folder=output_folder)\n",
    "print(f\"Number of segments for replicate {rep1} in filtered bed file: {filtered_segments1.shape[0]}.\")\n",
    "\n",
    "filtered_segments2 = filter_segments_by_state(segments2, states_of_interest, colum_to_filter_by, replicate=rep2, output_folder=output_folder)\n",
    "print(f\"Number of segments for replicate {rep2} in filtered bed file: {filtered_segments2.shape[0]}.\")\n",
    "\n",
    "print(f\"Difference: {filtered_segments2.shape[0] - filtered_segments1.shape[0]}\")"
   ]
  },
  {
   "cell_type": "markdown",
   "metadata": {},
   "source": [
    "### (3) **Obtain common segments between those previously filtered segments for chr. state 9**\n",
    "\n",
    "* **TOOL**: bedtools <p>\n",
    "* **INSTALL**: sudo apt-get install bedtools"
   ]
  },
  {
   "cell_type": "markdown",
   "metadata": {},
   "source": [
    "**Files of segments** in your output_folder (my_results):\n",
    "* my_results/filtered_segments1.bed\n",
    "* my_results/filtered_segments2.bed"
   ]
  },
  {
   "cell_type": "markdown",
   "metadata": {},
   "source": [
    "**There are several options we could be using for capturing the intersection between previously filtered segments** (see below)."
   ]
  },
  {
   "cell_type": "markdown",
   "metadata": {},
   "source": [
    "First, remember the **number of lines** (segments) we are working with in each filtered bed file."
   ]
  },
  {
   "cell_type": "code",
   "execution_count": 11,
   "metadata": {},
   "outputs": [
    {
     "name": "stdout",
     "output_type": "stream",
     "text": [
      "22479\n",
      "24429\n"
     ]
    }
   ],
   "source": [
    "!cat my_results/filtered_segments1.bed | wc -l  # as previously checked\n",
    "!cat my_results/filtered_segments2.bed | wc -l"
   ]
  },
  {
   "cell_type": "markdown",
   "metadata": {},
   "source": [
    "##### (A) **90% overlap intersectiom** \n",
    "\n",
    "These first two options would allow recovering segments where there is a high percentage of coverage on **one of the two original files** in the final segment."
   ]
  },
  {
   "cell_type": "code",
   "execution_count": 12,
   "metadata": {},
   "outputs": [
    {
     "name": "stdout",
     "output_type": "stream",
     "text": [
      "12030\n"
     ]
    }
   ],
   "source": [
    "# Monocyte1 as reference for intersection at 90% overlap\n",
    "# Meaning you require that the feature in 2 overlaps at least 90% of the feature in 1\n",
    "!bedtools intersect -a my_results/filtered_segments1.bed -b my_results/filtered_segments2.bed -f 0.9 | wc -l  # Number of lines, i.e. number of retrieved segments"
   ]
  },
  {
   "cell_type": "markdown",
   "metadata": {},
   "source": [
    "Since the segments in replicate 2 are probably shorter, they might be more easily fit in segments in replicate 1: thus the higher number of lines after the first intersect."
   ]
  },
  {
   "cell_type": "code",
   "execution_count": 13,
   "metadata": {},
   "outputs": [
    {
     "name": "stdout",
     "output_type": "stream",
     "text": [
      "1674\n"
     ]
    }
   ],
   "source": [
    "# Monocyte2 as reference for intersection at 90% overlap\n",
    "# Meaning you require that the feature in 1 overlaps at least 90% of the feature in 2\n",
    "!bedtools intersect -a my_results/filtered_segments2.bed -b my_results/filtered_segments1.bed -f 0.9 | wc -l  # Number of lines, i.e. number of retrieved segments"
   ]
  },
  {
   "cell_type": "markdown",
   "metadata": {},
   "source": [
    "On the other hand, the segments in replicate 1 are less and probably longer, thus they do not easily fit in segments in replicate 2 (at least, not to the same extent than in the first case) and the number of reported segments is quite lower."
   ]
  },
  {
   "cell_type": "markdown",
   "metadata": {},
   "source": [
    "##### (B) **Standard interception**\n",
    "\n",
    "This utility of simple interception seems to retrieve a higher number of segments, since `bedtools intersect` will report an overlap between A and B so long as there is at least one base pair overlapping."
   ]
  },
  {
   "cell_type": "code",
   "execution_count": 10,
   "metadata": {},
   "outputs": [
    {
     "name": "stdout",
     "output_type": "stream",
     "text": [
      "13985\n",
      "chr10\t556400\t557400\tE9\n",
      "chr10\t1463000\t1463600\tE9\n",
      "chr10\t2881200\t2881600\tE9\n",
      "chr10\t2970200\t2970800\tE9\n",
      "chr10\t3085800\t3086200\tE9\n",
      "chr10\t3235000\t3235800\tE9\n",
      "chr10\t3281400\t3282200\tE9\n",
      "chr10\t4698800\t4699600\tE9\n",
      "chr10\t4809200\t4809600\tE9\n",
      "chr10\t4858000\t4859000\tE9\n"
     ]
    }
   ],
   "source": [
    "# Standard interception\n",
    "!bedtools intersect -a my_results/filtered_segments1.bed -b my_results/filtered_segments2.bed | wc -l  # Number of lines, i.e. number of retrieved segments\n",
    "!bedtools intersect -a my_results/filtered_segments1.bed -b my_results/filtered_segments2.bed | head"
   ]
  },
  {
   "cell_type": "markdown",
   "metadata": {},
   "source": [
    "##### (C) **Reciprocal interception**\n",
    "\n",
    "In this case, we want to require that a minimal fraction of both the A and the B features is overlapped, thus obtaining intermediate segments with a minimum coverage of both segments in A and B. The number of final segments retrieved is lower, since we would have raised our *quality* threshold (i.e. we want representative segments of both replicates 1 and 2, at least in a 50% coverage)."
   ]
  },
  {
   "cell_type": "code",
   "execution_count": 15,
   "metadata": {},
   "outputs": [
    {
     "name": "stdout",
     "output_type": "stream",
     "text": [
      "8022\n"
     ]
    }
   ],
   "source": [
    "# Reciprocal interception at 50% overlap\n",
    "!bedtools intersect -a my_results/filtered_segments1.bed -b my_results/filtered_segments2.bed -f 0.5 -r | wc -l  # Number of lines, i.e. number of retrieved segments"
   ]
  },
  {
   "cell_type": "markdown",
   "metadata": {},
   "source": [
    "**See toy example right below to decide which option to use!**"
   ]
  },
  {
   "cell_type": "markdown",
   "metadata": {},
   "source": [
    "#### (3.1) **bedtools examples**\n",
    "\n",
    "Reference documentation: https://bedtools.readthedocs.io/en/latest/content/tools/intersect.html\n",
    "\n",
    "An analysis of a toy example might come in handy here. See example files in 'bedtools_examples' folder."
   ]
  },
  {
   "cell_type": "markdown",
   "metadata": {},
   "source": [
    "##### (1) See section on **\"-f Requiring a minimal overlap fraction\"** in reference"
   ]
  },
  {
   "cell_type": "code",
   "execution_count": 16,
   "metadata": {},
   "outputs": [
    {
     "name": "stdout",
     "output_type": "stream",
     "text": [
      "chr1\t100\t200\n",
      "\n",
      "chr1\t130\t201\n",
      "chr1\t180\t220\n"
     ]
    }
   ],
   "source": [
    "!cat bedtools_examples/A.bed\n",
    "!echo\n",
    "!cat bedtools_examples/B.bed"
   ]
  },
  {
   "cell_type": "code",
   "execution_count": 17,
   "metadata": {},
   "outputs": [
    {
     "name": "stdout",
     "output_type": "stream",
     "text": [
      "chr1\t130\t200\n"
     ]
    }
   ],
   "source": [
    "# \"A\" as a reference for intersection at 50% overlap\n",
    "!bedtools intersect -a bedtools_examples/A.bed -b bedtools_examples/B.bed -f 0.50 "
   ]
  },
  {
   "cell_type": "markdown",
   "metadata": {},
   "source": [
    "##### (2) See section on **\"-r, and -f Requiring reciprocal minimal overlap fraction\"** in reference"
   ]
  },
  {
   "cell_type": "code",
   "execution_count": 18,
   "metadata": {},
   "outputs": [
    {
     "name": "stdout",
     "output_type": "stream",
     "text": [
      "chr1\t130\t200\n"
     ]
    }
   ],
   "source": [
    "# \"A\" as a reference for intersection at 50% overlap, but reciprocal\n",
    "!bedtools intersect -a bedtools_examples/A.bed -b bedtools_examples/B.bed -f 0.50 -r"
   ]
  },
  {
   "cell_type": "markdown",
   "metadata": {},
   "source": [
    "##### (3) **Standard intersection in our toy example**"
   ]
  },
  {
   "cell_type": "code",
   "execution_count": 19,
   "metadata": {},
   "outputs": [
    {
     "name": "stdout",
     "output_type": "stream",
     "text": [
      "chr1\t130\t200\n",
      "chr1\t180\t200\n"
     ]
    }
   ],
   "source": [
    "!bedtools intersect -a bedtools_examples/A.bed -b bedtools_examples/B.bed"
   ]
  },
  {
   "cell_type": "markdown",
   "metadata": {},
   "source": [
    "#### **Final remarks after toy example**\n",
    "\n",
    "* An **interception at 50% overlap** would be interesting if both bed files were more or less comparable in terms of number of segments and length per segment <p>\n",
    "\n",
    "* In case of not being comparable, a **reciprocal interception** might be a demanding but precise approach (demanding because we might lose some segments not fulfilling our expectations) <p>\n",
    "\n",
    "* **Standard intersection** is interesting for reporting **all** possible intersection cases, but it might also include **unsignificant intersections**, or even an intersection of several segments from B to the very same segment of A. Is this **potential duplication or repetition** of our interest here? <p>"
   ]
  },
  {
   "cell_type": "markdown",
   "metadata": {},
   "source": [
    "Thus in our case, I think the best option would be:\n",
    "\n",
    "* **Reciprocal intersection at 50% overlap** (option C), since that would allow to get intermediate but significant segments from the original replicate bed files. <p>\n",
    "\n",
    "* Another possibility would be to **annotate both the common segments** from last option and **also the individual segments from each replicate** (previously filtered by chr. state). <p>\n",
    "\n",
    "* If we really think it is useful to retrieve all potential intersections, even duplicated repetitions from one of the replicates with different segments in the other replicate, the **standard intersection**. *I do not like this option since I think it does introduce some or quite a lot of noise*. <p>"
   ]
  },
  {
   "cell_type": "code",
   "execution_count": 20,
   "metadata": {},
   "outputs": [],
   "source": [
    "# FINAL INTERSECTION\n",
    "# Reciprocal interception at 50% overlap\n",
    "!bedtools intersect -a my_results/filtered_segments1.bed -b my_results/filtered_segments2.bed -f 0.5 -r > my_results/common_segments.bed"
   ]
  },
  {
   "cell_type": "code",
   "execution_count": 25,
   "metadata": {},
   "outputs": [
    {
     "name": "stdout",
     "output_type": "stream",
     "text": [
      "8022\n"
     ]
    }
   ],
   "source": [
    "# Number of lines, i.e. common segments found\n",
    "!cat my_results/common_segments.bed | wc -l"
   ]
  },
  {
   "cell_type": "markdown",
   "metadata": {},
   "source": [
    "#### Related doubts\n",
    "\n",
    "* Are we interested in the amount of overlap between intersecting features? *Since we can get it back*."
   ]
  },
  {
   "cell_type": "markdown",
   "metadata": {},
   "source": [
    "### (4) **External annotations**"
   ]
  },
  {
   "cell_type": "code",
   "execution_count": 2,
   "metadata": {},
   "outputs": [
    {
     "ename": "NameError",
     "evalue": "name 'input_folder' is not defined",
     "output_type": "error",
     "traceback": [
      "\u001b[1;31m---------------------------------------------------------------------------\u001b[0m",
      "\u001b[1;31mNameError\u001b[0m                                 Traceback (most recent call last)",
      "Cell \u001b[1;32mIn[2], line 6\u001b[0m\n\u001b[0;32m      3\u001b[0m \u001b[38;5;28;01mimport\u001b[39;00m \u001b[38;5;21;01mipywidgets\u001b[39;00m \u001b[38;5;28;01mas\u001b[39;00m \u001b[38;5;21;01mwidgets\u001b[39;00m\n\u001b[0;32m      5\u001b[0m \u001b[38;5;66;03m# Images\u001b[39;00m\n\u001b[1;32m----> 6\u001b[0m img1\u001b[38;5;241m=\u001b[39m\u001b[38;5;28mopen\u001b[39m(\u001b[38;5;124mf\u001b[39m\u001b[38;5;124m'\u001b[39m\u001b[38;5;132;01m{\u001b[39;00m\u001b[43minput_folder\u001b[49m\u001b[38;5;132;01m}\u001b[39;00m\u001b[38;5;124m/Monocyte1_11_Master_11_overlap.png\u001b[39m\u001b[38;5;124m'\u001b[39m,\u001b[38;5;124m'\u001b[39m\u001b[38;5;124mrb\u001b[39m\u001b[38;5;124m'\u001b[39m)\u001b[38;5;241m.\u001b[39mread()\n\u001b[0;32m      7\u001b[0m wi1 \u001b[38;5;241m=\u001b[39m widgets\u001b[38;5;241m.\u001b[39mImage(value\u001b[38;5;241m=\u001b[39mimg1, \u001b[38;5;28mformat\u001b[39m\u001b[38;5;241m=\u001b[39m\u001b[38;5;124m'\u001b[39m\u001b[38;5;124mpng\u001b[39m\u001b[38;5;124m'\u001b[39m, width\u001b[38;5;241m=\u001b[39m\u001b[38;5;241m600\u001b[39m, height\u001b[38;5;241m=\u001b[39m\u001b[38;5;241m500\u001b[39m)\n\u001b[0;32m      8\u001b[0m img2\u001b[38;5;241m=\u001b[39m\u001b[38;5;28mopen\u001b[39m(\u001b[38;5;124mf\u001b[39m\u001b[38;5;124m'\u001b[39m\u001b[38;5;132;01m{\u001b[39;00minput_folder\u001b[38;5;132;01m}\u001b[39;00m\u001b[38;5;124m/Monocyte2_11_Master_11_overlap.png\u001b[39m\u001b[38;5;124m'\u001b[39m,\u001b[38;5;124m'\u001b[39m\u001b[38;5;124mrb\u001b[39m\u001b[38;5;124m'\u001b[39m)\u001b[38;5;241m.\u001b[39mread()\n",
      "\u001b[1;31mNameError\u001b[0m: name 'input_folder' is not defined"
     ]
    }
   ],
   "source": [
    "# From https://stackoverflow.com/questions/50559000/how-do-i-make-2-images-appear-side-by-side-in-jupyter-notebook-ipython\n",
    "import IPython.display as display\n",
    "import ipywidgets as widgets\n",
    "\n",
    "# Images\n",
    "img1=open(f'{input_folder}/Monocyte1_11_Master_11_overlap.png','rb').read()\n",
    "wi1 = widgets.Image(value=img1, format='png', width=600, height=500)\n",
    "img2=open(f'{input_folder}/Monocyte2_11_Master_11_overlap.png','rb').read()\n",
    "wi2 = widgets.Image(value=img2, format='png', width=600, height=500)\n",
    "\n",
    "# Display\n",
    "images=[wi1,wi2]\n",
    "widgets=widgets.HBox(images)\n",
    "display.display(widgets)"
   ]
  },
  {
   "cell_type": "markdown",
   "metadata": {},
   "source": [
    "In the **overlap files**:\n",
    "\n",
    "* The last row indicates the percentage of the genome that each external annotation covers\n",
    "\n",
    "* The second column contains the **percentage** of the genome each state covers.\n",
    "\n",
    "* The remaining rows correspond to different states, and the remaining columns correspond to different external annotations. The values in these rows and columns correspond to the **fold enrichments** for the presence of the external annotation in the state. \n",
    "\n",
    "* The **fold enrichments** are computed as the ratio of the fraction of bases assigned to the state that are in the external category to the fraction of bases in the genome that are in the external category."
   ]
  },
  {
   "cell_type": "code",
   "execution_count": 22,
   "metadata": {},
   "outputs": [],
   "source": [
    "# Overlap files\n",
    "overlap1 = pd.read_csv(f\"{input_folder}/Monocyte1_11_Master_11_overlap.txt\", sep=\"\\t\", index_col=0, header=\"infer\")\n",
    "overlap2 = pd.read_csv(f\"{input_folder}/Monocyte2_11_Master_11_overlap.txt\", sep=\"\\t\", index_col=0, header=\"infer\")"
   ]
  },
  {
   "cell_type": "code",
   "execution_count": 23,
   "metadata": {},
   "outputs": [],
   "source": [
    "# Final, composed function\n",
    "def complete_external_annotations(state, rep1df, rep2df):\n",
    "    \n",
    "    # Global Figure\n",
    "    fig = plt.figure(state, figsize=(15,7))\n",
    "    \n",
    "    # GENOME COVERAGE\n",
    "    # Values for y, x-axes\n",
    "    genome_perc = [rep1df.loc[str(state), \"Genome %\"], rep2df.loc[str(state), \"Genome %\"]]  # Note: str(state)\n",
    "    labels = [\"Monocyte1\", \"Monocyte2\"]\n",
    "    \n",
    "    # Plot\n",
    "    ax1 = fig.add_subplot(121)\n",
    "    ax1.set_ylabel(\"Genome %\", fontsize=10, fontweight='bold')\n",
    "    ax1.set_xlabel(\"Replicate\", fontsize=10, fontweight='bold')\n",
    "    ax1.set_title(\"Genome coverage\", size=\"x-large\", fontweight='bold')\n",
    "    ax1.bar(labels, genome_perc, width=0.6)\n",
    "    \n",
    "    # EXTERNAL ANNOTATIONS\n",
    "    # Replicate dataframes\n",
    "    rep1df_noG = rep1df.drop(['Genome %'], axis=1)\n",
    "    rep2df_noG = rep2df.drop(['Genome %'], axis=1)\n",
    "\n",
    "    # Define Data\n",
    "    labels = [name.split(\".\")[0] for name in list(rep1df_noG.columns)]\n",
    "    rep1 = rep1df_noG.loc[str(state),].to_numpy()  # Note: str(state)\n",
    "    rep2 = rep2df_noG.loc[str(state),].to_numpy()  # Note: str(state)\n",
    "\n",
    "    # Multi bar Chart\n",
    "    ax2 = fig.add_subplot(122)\n",
    "    x_axis = np.arange(len(labels))\n",
    "    ax2.bar(x_axis -0.2, rep1, width=0.4, label = 'Monocyte1')\n",
    "    ax2.bar(x_axis +0.2, rep2, width=0.4, label = 'Monocyte2')\n",
    "\n",
    "    # Xticks, Labels & Legend\n",
    "    ax2.set_xticks(x_axis, labels, rotation=55, fontsize=14)\n",
    "    ax2.set_ylabel(\"Fold Enrichment\", fontsize=10, fontweight='bold')\n",
    "    ax2.set_xlabel(\"Annotations\", fontsize=10, fontweight='bold')\n",
    "    ax2.set_title(\"External Annotation\", size=\"x-large\", fontweight='bold')\n",
    "    ax2.legend()\n",
    "\n",
    "    # Final Display\n",
    "    fig.suptitle(f\"State: E{state}\\n=======\", fontsize=16)\n",
    "    fig.show()"
   ]
  },
  {
   "cell_type": "code",
   "execution_count": 24,
   "metadata": {},
   "outputs": [
    {
     "name": "stdout",
     "output_type": "stream",
     "text": [
      "\n"
     ]
    },
    {
     "data": {
      "image/png": "[encoded data removed]",
      "text/plain": [
       "<Figure size 1080x504 with 2 Axes>"
      ]
     },
     "metadata": {
      "needs_background": "light"
     },
     "output_type": "display_data"
    }
   ],
   "source": [
    "# For each one of our selected states\n",
    "transformed_states_of_interest = [int(state[1]) for state in states_of_interest]  # From str (\"E9\") ti int (9)\n",
    "\n",
    "for state in list(transformed_states_of_interest):\n",
    "    complete_external_annotations(state, overlap1, overlap2)\n",
    "    print()"
   ]
  },
  {
   "cell_type": "markdown",
   "metadata": {},
   "source": [
    "Further analysis (...)."
   ]
  },
  {
   "cell_type": "markdown",
   "metadata": {},
   "source": [
    "### (x) **Bibliography**\n",
    "\n",
    "[1] Ernst, J., Kellis, M. *Chromatin-state discovery and genome annotation with ChromHMM*. Nat Protoc 12, 2478–2492 (2017). https://doi.org/10.1038/nprot.2017.124"
   ]
  }
 ],
 "metadata": {
  "interpreter": {
   "hash": "e4ee870ab444af8a8689fba9fdb6a16993f9af4d6f8c51486b98fd7ee4129479"
  },
  "kernelspec": {
   "display_name": "Python 3 (ipykernel)",
   "language": "python",
   "name": "python3"
  },
  "language_info": {
   "codemirror_mode": {
    "name": "ipython",
    "version": 3
   },
   "file_extension": ".py",
   "mimetype": "text/x-python",
   "name": "python",
   "nbconvert_exporter": "python",
   "pygments_lexer": "ipython3",
   "version": "3.11.1"
  }
 },
 "nbformat": 4,
 "nbformat_minor": 2
}
