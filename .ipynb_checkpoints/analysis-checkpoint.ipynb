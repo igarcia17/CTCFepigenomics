{
 "cells": [
  {
   "cell_type": "markdown",
   "metadata": {},
   "source": [
    "Current colaborators: Iván Martín Martín <p>\n",
    "March 6th, 2022"
   ]
  },
  {
   "cell_type": "code",
   "execution_count": 1,
   "metadata": {},
   "outputs": [],
   "source": [
    "import pandas as pd\n",
    "import numpy as np\n",
    "import matplotlib.pyplot as plt\n",
    "from IPython import display\n",
    "import os"
   ]
  },
  {
   "cell_type": "markdown",
   "metadata": {},
   "source": [
    "### **Path setup**"
   ]
  },
  {
   "cell_type": "code",
   "execution_count": 2,
   "metadata": {},
   "outputs": [
    {
     "name": "stdout",
     "output_type": "stream",
     "text": [
      "Remember working directory: /home/ines/Escritorio/epig\n"
     ]
    }
   ],
   "source": [
    "# RUN THIS NOTEBOOK FROM THE Modelo_11_estados FOLDER!\n",
    "print(f\"Remember working directory: {os.getcwd()}\")"
   ]
  },
  {
   "cell_type": "code",
   "execution_count": 3,
   "metadata": {},
   "outputs": [],
   "source": [
    "!mkdir my_results"
   ]
  },
  {
   "cell_type": "markdown",
   "metadata": {},
   "source": [
    "### (1) **Analysis of the emission matrix**\n",
    "\n",
    "From [1], the values correspond to the probability of\n",
    "observing the mark of the column, conditioned on being in the state of the row."
   ]
  },
  {
   "cell_type": "code",
   "execution_count": 4,
   "metadata": {
    "scrolled": true
   },
   "outputs": [
    {
     "data": {
      "image/png": "[encoded data removed]",
      "text/plain": [
       "<IPython.core.display.Image object>"
      ]
     },
     "execution_count": 4,
     "metadata": {},
     "output_type": "execute_result"
    }
   ],
   "source": [
    "# Emission Matrix\n",
    "display.Image(\"RESULTS/Modelo_11_estados/emissions_11_Master_11.png\")"
   ]
  },
  {
   "cell_type": "markdown",
   "metadata": {},
   "source": [
    "#### (1.1) **Reference chromatine state for insulators (CTCF)**\n",
    "\n",
    "We decide to follow a criterion such that CTCF is considered in those states where there are a prob. of belongig to the state which is higher than or equal to 0.1 (10%)."
   ]
  },
  {
   "cell_type": "code",
   "execution_count": 5,
   "metadata": {},
   "outputs": [
    {
     "data": {
      "text/html": [
       "<div>\n",
       "<style scoped>\n",
       "    .dataframe tbody tr th:only-of-type {\n",
       "        vertical-align: middle;\n",
       "    }\n",
       "\n",
       "    .dataframe tbody tr th {\n",
       "        vertical-align: top;\n",
       "    }\n",
       "\n",
       "    .dataframe thead th {\n",
       "        text-align: right;\n",
       "    }\n",
       "</style>\n",
       "<table border=\"1\" class=\"dataframe\">\n",
       "  <thead>\n",
       "    <tr style=\"text-align: right;\">\n",
       "      <th></th>\n",
       "      <th>CTCF</th>\n",
       "      <th>H3K4me3</th>\n",
       "      <th>H3K27ac</th>\n",
       "      <th>H3K4me1</th>\n",
       "      <th>H3K27me3</th>\n",
       "      <th>H3K9me3</th>\n",
       "      <th>H3K36me3</th>\n",
       "    </tr>\n",
       "    <tr>\n",
       "      <th>state (Emission order)</th>\n",
       "      <th></th>\n",
       "      <th></th>\n",
       "      <th></th>\n",
       "      <th></th>\n",
       "      <th></th>\n",
       "      <th></th>\n",
       "      <th></th>\n",
       "    </tr>\n",
       "  </thead>\n",
       "  <tbody>\n",
       "    <tr>\n",
       "      <th>1</th>\n",
       "      <td>0.209389</td>\n",
       "      <td>0.969437</td>\n",
       "      <td>0.902838</td>\n",
       "      <td>0.079627</td>\n",
       "      <td>0.008275</td>\n",
       "      <td>0.002612</td>\n",
       "      <td>0.006032</td>\n",
       "    </tr>\n",
       "    <tr>\n",
       "      <th>2</th>\n",
       "      <td>0.091412</td>\n",
       "      <td>0.927374</td>\n",
       "      <td>0.981443</td>\n",
       "      <td>0.984251</td>\n",
       "      <td>0.004861</td>\n",
       "      <td>0.001057</td>\n",
       "      <td>0.025931</td>\n",
       "    </tr>\n",
       "    <tr>\n",
       "      <th>3</th>\n",
       "      <td>0.046216</td>\n",
       "      <td>0.095779</td>\n",
       "      <td>0.765510</td>\n",
       "      <td>0.823722</td>\n",
       "      <td>0.002787</td>\n",
       "      <td>0.002188</td>\n",
       "      <td>0.135051</td>\n",
       "    </tr>\n",
       "    <tr>\n",
       "      <th>4</th>\n",
       "      <td>0.018222</td>\n",
       "      <td>0.003675</td>\n",
       "      <td>0.073021</td>\n",
       "      <td>0.435898</td>\n",
       "      <td>0.007300</td>\n",
       "      <td>0.000315</td>\n",
       "      <td>0.006162</td>\n",
       "    </tr>\n",
       "    <tr>\n",
       "      <th>5</th>\n",
       "      <td>0.116682</td>\n",
       "      <td>0.718903</td>\n",
       "      <td>0.078272</td>\n",
       "      <td>0.785599</td>\n",
       "      <td>0.021810</td>\n",
       "      <td>0.002277</td>\n",
       "      <td>0.008994</td>\n",
       "    </tr>\n",
       "    <tr>\n",
       "      <th>6</th>\n",
       "      <td>0.140025</td>\n",
       "      <td>0.528463</td>\n",
       "      <td>0.035380</td>\n",
       "      <td>0.647790</td>\n",
       "      <td>0.919630</td>\n",
       "      <td>0.085764</td>\n",
       "      <td>0.006335</td>\n",
       "    </tr>\n",
       "    <tr>\n",
       "      <th>7</th>\n",
       "      <td>0.017177</td>\n",
       "      <td>0.000300</td>\n",
       "      <td>0.000117</td>\n",
       "      <td>0.003130</td>\n",
       "      <td>0.576015</td>\n",
       "      <td>0.019912</td>\n",
       "      <td>0.001637</td>\n",
       "    </tr>\n",
       "    <tr>\n",
       "      <th>8</th>\n",
       "      <td>0.010846</td>\n",
       "      <td>0.000454</td>\n",
       "      <td>0.000308</td>\n",
       "      <td>0.000512</td>\n",
       "      <td>0.013342</td>\n",
       "      <td>0.004657</td>\n",
       "      <td>0.001370</td>\n",
       "    </tr>\n",
       "    <tr>\n",
       "      <th>9</th>\n",
       "      <td>0.823642</td>\n",
       "      <td>0.010235</td>\n",
       "      <td>0.009349</td>\n",
       "      <td>0.065067</td>\n",
       "      <td>0.063280</td>\n",
       "      <td>0.001342</td>\n",
       "      <td>0.009285</td>\n",
       "    </tr>\n",
       "    <tr>\n",
       "      <th>10</th>\n",
       "      <td>0.018609</td>\n",
       "      <td>0.000568</td>\n",
       "      <td>0.046108</td>\n",
       "      <td>0.005078</td>\n",
       "      <td>0.004465</td>\n",
       "      <td>0.002681</td>\n",
       "      <td>0.624591</td>\n",
       "    </tr>\n",
       "    <tr>\n",
       "      <th>11</th>\n",
       "      <td>0.021427</td>\n",
       "      <td>0.074864</td>\n",
       "      <td>0.002655</td>\n",
       "      <td>0.001345</td>\n",
       "      <td>0.007091</td>\n",
       "      <td>0.505530</td>\n",
       "      <td>0.083565</td>\n",
       "    </tr>\n",
       "  </tbody>\n",
       "</table>\n",
       "</div>"
      ],
      "text/plain": [
       "                            CTCF   H3K4me3   H3K27ac   H3K4me1  H3K27me3  \\\n",
       "state (Emission order)                                                     \n",
       "1                       0.209389  0.969437  0.902838  0.079627  0.008275   \n",
       "2                       0.091412  0.927374  0.981443  0.984251  0.004861   \n",
       "3                       0.046216  0.095779  0.765510  0.823722  0.002787   \n",
       "4                       0.018222  0.003675  0.073021  0.435898  0.007300   \n",
       "5                       0.116682  0.718903  0.078272  0.785599  0.021810   \n",
       "6                       0.140025  0.528463  0.035380  0.647790  0.919630   \n",
       "7                       0.017177  0.000300  0.000117  0.003130  0.576015   \n",
       "8                       0.010846  0.000454  0.000308  0.000512  0.013342   \n",
       "9                       0.823642  0.010235  0.009349  0.065067  0.063280   \n",
       "10                      0.018609  0.000568  0.046108  0.005078  0.004465   \n",
       "11                      0.021427  0.074864  0.002655  0.001345  0.007091   \n",
       "\n",
       "                         H3K9me3  H3K36me3  \n",
       "state (Emission order)                      \n",
       "1                       0.002612  0.006032  \n",
       "2                       0.001057  0.025931  \n",
       "3                       0.002188  0.135051  \n",
       "4                       0.000315  0.006162  \n",
       "5                       0.002277  0.008994  \n",
       "6                       0.085764  0.006335  \n",
       "7                       0.019912  0.001637  \n",
       "8                       0.004657  0.001370  \n",
       "9                       0.001342  0.009285  \n",
       "10                      0.002681  0.624591  \n",
       "11                      0.505530  0.083565  "
      ]
     },
     "execution_count": 5,
     "metadata": {},
     "output_type": "execute_result"
    }
   ],
   "source": [
    "# Emission matrix file\n",
    "emission_matrix = pd.read_csv(\"RESULTS/Modelo_11_estados/emissions_11_Master_11.txt\", sep=\"\\t\", index_col=0, header=\"infer\")\n",
    "emission_matrix"
   ]
  },
  {
   "cell_type": "code",
   "execution_count": 6,
   "metadata": {},
   "outputs": [
    {
     "name": "stdout",
     "output_type": "stream",
     "text": [
      "Selected states for CTCF: ['E1', 'E5', 'E6', 'E9']\n"
     ]
    }
   ],
   "source": [
    "# Selected states for CTCF according to criterion: prob. of belonging to state >= 10%\n",
    "states_for_CTCF = emission_matrix[emission_matrix[\"CTCF\"] >= 0.1].index\n",
    "\n",
    "# Selected states\n",
    "states_for_CTCF_df = emission_matrix.loc[states_for_CTCF, \"CTCF\"]\n",
    "states_for_CTCF_list = [f\"E{n_state}\" for n_state in states_for_CTCF]\n",
    "print(f\"Selected states for CTCF: {states_for_CTCF_list}\")"
   ]
  },
  {
   "cell_type": "code",
   "execution_count": 8,
   "metadata": {},
   "outputs": [
    {
     "data": {
      "text/plain": [
       "state (Emission order)\n",
       "1    0.209389\n",
       "5    0.116682\n",
       "6    0.140025\n",
       "9    0.823642\n",
       "Name: CTCF, dtype: float64"
      ]
     },
     "execution_count": 8,
     "metadata": {},
     "output_type": "execute_result"
    }
   ],
   "source": [
    "# Note that the most significant state is E9, given the outstanding prob. of CTCF to be in this state\n",
    "states_for_CTCF_df"
   ]
  },
  {
   "cell_type": "markdown",
   "metadata": {},
   "source": [
    "#### (1.2) **Further analysis of state 9**\n",
    "\n",
    "Following the same criteria for the analysis of chromatine state 9, the probability of belonging to E9 of any mark besides CTCF is lower than 10%."
   ]
  },
  {
   "cell_type": "code",
   "execution_count": 7,
   "metadata": {},
   "outputs": [
    {
     "data": {
      "text/plain": [
       "CTCF        0.823642\n",
       "H3K4me3     0.010235\n",
       "H3K27ac     0.009349\n",
       "H3K4me1     0.065067\n",
       "H3K27me3    0.063280\n",
       "H3K9me3     0.001342\n",
       "H3K36me3    0.009285\n",
       "Name: 9, dtype: float64"
      ]
     },
     "execution_count": 7,
     "metadata": {},
     "output_type": "execute_result"
    }
   ],
   "source": [
    "emission_matrix.loc[9]"
   ]
  },
  {
   "cell_type": "code",
   "execution_count": 9,
   "metadata": {},
   "outputs": [
    {
     "name": "stdout",
     "output_type": "stream",
     "text": [
      "significant_marks_for_E9: ['CTCF', 'H3K4me1', 'H3K27me3']\n"
     ]
    }
   ],
   "source": [
    "significant_marks_for_E9 = list(emission_matrix.columns[emission_matrix.loc[9] >= 0.05])\n",
    "print(f\"significant_marks_for_E9: {significant_marks_for_E9}\")"
   ]
  },
  {
   "cell_type": "markdown",
   "metadata": {},
   "source": [
    "### (2) **Task 1: common segments between replicates**\n",
    "Obtain the segments that have the same state in the two replicates of monocytes."
   ]
  },
  {
   "cell_type": "markdown",
   "metadata": {},
   "source": [
    "* **TOOL**: bedtools <p>\n",
    "* **INSTALL**: sudo apt-get install bedtools"
   ]
  },
  {
   "cell_type": "markdown",
   "metadata": {},
   "source": [
    "**Files of segments**:\n",
    "* Monocyte1_11_Master_11_segments.bed\n",
    "* Monocyte2_11_Master_11_segments.bed"
   ]
  },
  {
   "cell_type": "markdown",
   "metadata": {},
   "source": [
    "**Why beedtools**\n",
    "\n",
    "Monocyte1 and Monocyte2 replicates do not have the same number of segments, thus each analogous segment per monocyte does not have the same length (*compare files line by line*). Assuming that the length of coverage of the whole DNA in the Chip-seq experiment was the same for both Monocytes (<span style=\"color:red\">*</span>), Monocyte1 had longer segments captured.\n",
    "\n",
    "Thus we use Monocyte1 segments as reference for selection of common segments for both replicates, since they are longer and might contain one or more segments from Monocyte2. \n",
    "\n",
    "In this sense, a reasonable (minimum) overlap required for common segments, as a fraction of Monocyte1 segments, would be 90% (i.e. maximizing coverage). "
   ]
  },
  {
   "cell_type": "code",
   "execution_count": 10,
   "metadata": {},
   "outputs": [
    {
     "name": "stdout",
     "output_type": "stream",
     "text": [
      "Error: Unable to open file Monocyte1_11_Master_11_segments.bed. Exiting.\r\n",
      "0\r\n"
     ]
    }
   ],
   "source": [
    "# 327218 segments selected (with common state between Monocyte1 and Monocyte2) \n",
    "!bedtools intersect -a Monocyte1_11_Master_11_segments.bed -b Monocyte2_11_Master_11_segments.bed -f 0.9 | wc -l"
   ]
  },
  {
   "cell_type": "code",
   "execution_count": 11,
   "metadata": {},
   "outputs": [],
   "source": [
    "# Bash command for common segments\n",
    "!bedtools intersect -a RESULTS/Modelo_11_estados/Monocyte1_11_Master_11_segments.bed -b RESULTS/Modelo_11_estados/Monocyte2_11_Master_11_segments.bed -f 0.9 > my_results/common_segments.bed"
   ]
  },
  {
   "cell_type": "markdown",
   "metadata": {},
   "source": [
    "(<span style=\"color:red\">*</span>) If we check the last segment in both files, the end coordinate is in both cases: 155270400."
   ]
  },
  {
   "cell_type": "code",
   "execution_count": 12,
   "metadata": {},
   "outputs": [
    {
     "name": "stdout",
     "output_type": "stream",
     "text": [
      "chrX\t155258600\t155270400\tE8\n",
      "chrX\t155258600\t155270400\tE8\n"
     ]
    }
   ],
   "source": [
    "# File check Monocyte1\n",
    "!cat RESULTS/Modelo_11_estados/Monocyte1_11_Master_11_segments.bed | tail -n 1\n",
    "\n",
    "# File check Monocyte1\n",
    "!cat RESULTS/Modelo_11_estados/Monocyte2_11_Master_11_segments.bed | tail -n 1"
   ]
  },
  {
   "cell_type": "markdown",
   "metadata": {},
   "source": [
    "#### (2.1) **Filtering of common segments by our chromatine mark of reference**"
   ]
  },
  {
   "cell_type": "markdown",
   "metadata": {},
   "source": [
    "With the last information, common segments segments for both replicates are filtered according to our states of interest for CTCF."
   ]
  },
  {
   "cell_type": "code",
   "execution_count": 13,
   "metadata": {},
   "outputs": [
    {
     "data": {
      "text/html": [
       "<div>\n",
       "<style scoped>\n",
       "    .dataframe tbody tr th:only-of-type {\n",
       "        vertical-align: middle;\n",
       "    }\n",
       "\n",
       "    .dataframe tbody tr th {\n",
       "        vertical-align: top;\n",
       "    }\n",
       "\n",
       "    .dataframe thead th {\n",
       "        text-align: right;\n",
       "    }\n",
       "</style>\n",
       "<table border=\"1\" class=\"dataframe\">\n",
       "  <thead>\n",
       "    <tr style=\"text-align: right;\">\n",
       "      <th></th>\n",
       "      <th>0</th>\n",
       "      <th>1</th>\n",
       "      <th>2</th>\n",
       "      <th>3</th>\n",
       "    </tr>\n",
       "  </thead>\n",
       "  <tbody>\n",
       "    <tr>\n",
       "      <th>0</th>\n",
       "      <td>chr10</td>\n",
       "      <td>0</td>\n",
       "      <td>73800</td>\n",
       "      <td>E8</td>\n",
       "    </tr>\n",
       "    <tr>\n",
       "      <th>1</th>\n",
       "      <td>chr10</td>\n",
       "      <td>95400</td>\n",
       "      <td>96000</td>\n",
       "      <td>E11</td>\n",
       "    </tr>\n",
       "    <tr>\n",
       "      <th>2</th>\n",
       "      <td>chr10</td>\n",
       "      <td>103400</td>\n",
       "      <td>104400</td>\n",
       "      <td>E11</td>\n",
       "    </tr>\n",
       "    <tr>\n",
       "      <th>3</th>\n",
       "      <td>chr10</td>\n",
       "      <td>115200</td>\n",
       "      <td>115600</td>\n",
       "      <td>E7</td>\n",
       "    </tr>\n",
       "    <tr>\n",
       "      <th>4</th>\n",
       "      <td>chr10</td>\n",
       "      <td>115600</td>\n",
       "      <td>118600</td>\n",
       "      <td>E8</td>\n",
       "    </tr>\n",
       "    <tr>\n",
       "      <th>5</th>\n",
       "      <td>chr10</td>\n",
       "      <td>118600</td>\n",
       "      <td>119600</td>\n",
       "      <td>E7</td>\n",
       "    </tr>\n",
       "    <tr>\n",
       "      <th>6</th>\n",
       "      <td>chr10</td>\n",
       "      <td>122200</td>\n",
       "      <td>122800</td>\n",
       "      <td>E6</td>\n",
       "    </tr>\n",
       "    <tr>\n",
       "      <th>7</th>\n",
       "      <td>chr10</td>\n",
       "      <td>125400</td>\n",
       "      <td>125800</td>\n",
       "      <td>E7</td>\n",
       "    </tr>\n",
       "    <tr>\n",
       "      <th>8</th>\n",
       "      <td>chr10</td>\n",
       "      <td>125800</td>\n",
       "      <td>134600</td>\n",
       "      <td>E8</td>\n",
       "    </tr>\n",
       "    <tr>\n",
       "      <th>9</th>\n",
       "      <td>chr10</td>\n",
       "      <td>134800</td>\n",
       "      <td>135400</td>\n",
       "      <td>E7</td>\n",
       "    </tr>\n",
       "  </tbody>\n",
       "</table>\n",
       "</div>"
      ],
      "text/plain": [
       "       0       1       2    3\n",
       "0  chr10       0   73800   E8\n",
       "1  chr10   95400   96000  E11\n",
       "2  chr10  103400  104400  E11\n",
       "3  chr10  115200  115600   E7\n",
       "4  chr10  115600  118600   E8\n",
       "5  chr10  118600  119600   E7\n",
       "6  chr10  122200  122800   E6\n",
       "7  chr10  125400  125800   E7\n",
       "8  chr10  125800  134600   E8\n",
       "9  chr10  134800  135400   E7"
      ]
     },
     "execution_count": 13,
     "metadata": {},
     "output_type": "execute_result"
    }
   ],
   "source": [
    "common_segments = pd.read_csv(\"my_results/common_segments.bed\", sep=\"\\t\", index_col=None, header=None)\n",
    "common_segments.head(10)"
   ]
  },
  {
   "cell_type": "code",
   "execution_count": 14,
   "metadata": {},
   "outputs": [
    {
     "data": {
      "text/html": [
       "<div>\n",
       "<style scoped>\n",
       "    .dataframe tbody tr th:only-of-type {\n",
       "        vertical-align: middle;\n",
       "    }\n",
       "\n",
       "    .dataframe tbody tr th {\n",
       "        vertical-align: top;\n",
       "    }\n",
       "\n",
       "    .dataframe thead th {\n",
       "        text-align: right;\n",
       "    }\n",
       "</style>\n",
       "<table border=\"1\" class=\"dataframe\">\n",
       "  <thead>\n",
       "    <tr style=\"text-align: right;\">\n",
       "      <th></th>\n",
       "      <th>0</th>\n",
       "      <th>1</th>\n",
       "      <th>2</th>\n",
       "      <th>3</th>\n",
       "    </tr>\n",
       "  </thead>\n",
       "  <tbody>\n",
       "    <tr>\n",
       "      <th>6</th>\n",
       "      <td>chr10</td>\n",
       "      <td>122200</td>\n",
       "      <td>122800</td>\n",
       "      <td>E6</td>\n",
       "    </tr>\n",
       "    <tr>\n",
       "      <th>10</th>\n",
       "      <td>chr10</td>\n",
       "      <td>173600</td>\n",
       "      <td>174000</td>\n",
       "      <td>E5</td>\n",
       "    </tr>\n",
       "    <tr>\n",
       "      <th>11</th>\n",
       "      <td>chr10</td>\n",
       "      <td>180800</td>\n",
       "      <td>181400</td>\n",
       "      <td>E5</td>\n",
       "    </tr>\n",
       "    <tr>\n",
       "      <th>13</th>\n",
       "      <td>chr10</td>\n",
       "      <td>181800</td>\n",
       "      <td>182200</td>\n",
       "      <td>E1</td>\n",
       "    </tr>\n",
       "    <tr>\n",
       "      <th>34</th>\n",
       "      <td>chr10</td>\n",
       "      <td>340200</td>\n",
       "      <td>340600</td>\n",
       "      <td>E9</td>\n",
       "    </tr>\n",
       "    <tr>\n",
       "      <th>37</th>\n",
       "      <td>chr10</td>\n",
       "      <td>375400</td>\n",
       "      <td>375800</td>\n",
       "      <td>E5</td>\n",
       "    </tr>\n",
       "    <tr>\n",
       "      <th>46</th>\n",
       "      <td>chr10</td>\n",
       "      <td>440400</td>\n",
       "      <td>440600</td>\n",
       "      <td>E1</td>\n",
       "    </tr>\n",
       "    <tr>\n",
       "      <th>49</th>\n",
       "      <td>chr10</td>\n",
       "      <td>493000</td>\n",
       "      <td>493400</td>\n",
       "      <td>E9</td>\n",
       "    </tr>\n",
       "    <tr>\n",
       "      <th>52</th>\n",
       "      <td>chr10</td>\n",
       "      <td>530400</td>\n",
       "      <td>530600</td>\n",
       "      <td>E5</td>\n",
       "    </tr>\n",
       "    <tr>\n",
       "      <th>53</th>\n",
       "      <td>chr10</td>\n",
       "      <td>530600</td>\n",
       "      <td>530800</td>\n",
       "      <td>E1</td>\n",
       "    </tr>\n",
       "  </tbody>\n",
       "</table>\n",
       "</div>"
      ],
      "text/plain": [
       "        0       1       2   3\n",
       "6   chr10  122200  122800  E6\n",
       "10  chr10  173600  174000  E5\n",
       "11  chr10  180800  181400  E5\n",
       "13  chr10  181800  182200  E1\n",
       "34  chr10  340200  340600  E9\n",
       "37  chr10  375400  375800  E5\n",
       "46  chr10  440400  440600  E1\n",
       "49  chr10  493000  493400  E9\n",
       "52  chr10  530400  530600  E5\n",
       "53  chr10  530600  530800  E1"
      ]
     },
     "execution_count": 14,
     "metadata": {},
     "output_type": "execute_result"
    }
   ],
   "source": [
    "# Filtering of common segments according to chromatine states for CTCF\n",
    "filtered_common_segments = common_segments[common_segments[3].isin(states_for_CTCF_list)]\n",
    "common_segments.to_csv(\"my_results/filtered_common_segments.bed\", sep=\"\\t\", index=False, header=False)\n",
    "filtered_common_segments.head(10)"
   ]
  },
  {
   "cell_type": "code",
   "execution_count": 15,
   "metadata": {},
   "outputs": [
    {
     "name": "stdout",
     "output_type": "stream",
     "text": [
      "Selected states for CTCF: ['E1', 'E5', 'E6', 'E9']\n",
      "filtered_common_segments.shape: (59327, 4)\n"
     ]
    }
   ],
   "source": [
    "print(f\"Selected states for CTCF: {states_for_CTCF_list}\")\n",
    "print(f\"filtered_common_segments.shape: {filtered_common_segments.shape}\")"
   ]
  },
  {
   "cell_type": "markdown",
   "metadata": {},
   "source": [
    "#### (2.2) **Consideration**\n",
    "\n",
    "I thought it might be less biased to first obtain common segments between replicates (`bedtools`) and then select by those chromatine states we are interested in (filtering with Python).\n",
    "\n",
    "This is because performing the process the other way around meant to first select the chromatine states of reference for us, thus potentially disorganizing the *segments.bed* files and biasing the further use of the `bedtools *intersect*` command.\n",
    "\n",
    "However, I am not sure whether I am right in this statement."
   ]
  },
  {
   "cell_type": "markdown",
   "metadata": {},
   "source": [
    "### (3) **Task 2: annotation**\n",
    "Annotate the segments. As a minimum, the percentage of segments that overlap with protein-coding genes."
   ]
  },
  {
   "cell_type": "markdown",
   "metadata": {},
   "source": [
    "#### (3.1) **Initial considerations**\n",
    "\n",
    "* I assume we have to annotate segments for both monocytes altogether since they are replicates. How do we integrate them?\n",
    "\n",
    "    - Mean, median, we do not integrate them (...)\n",
    "\n",
    "* Since we are working with segments associated to a given chromatine state, we have to take the chromatine state as reference"
   ]
  },
  {
   "cell_type": "code",
   "execution_count": 15,
   "metadata": {},
   "outputs": [
    {
     "data": {
      "application/vnd.jupyter.widget-view+json": {
       "model_id": "e327a89e8d654136a271016a7cbd9050",
       "version_major": 2,
       "version_minor": 0
      },
      "text/plain": [
       "HBox(children=(Image(value=b'\\x89PNG\\r\\n\\x1a\\n\\x00\\x00\\x00\\rIHDR\\x00\\x00\\x01\\x9f\\x00\\x00\\x02q\\x08\\x06\\x00\\x00\\…"
      ]
     },
     "metadata": {},
     "output_type": "display_data"
    }
   ],
   "source": [
    "# From https://stackoverflow.com/questions/50559000/how-do-i-make-2-images-appear-side-by-side-in-jupyter-notebook-ipython\n",
    "import IPython.display as display\n",
    "import ipywidgets as widgets\n",
    "\n",
    "# Images\n",
    "img1=open('Monocyte1_11_Master_11_overlap.png','rb').read()\n",
    "wi1 = widgets.Image(value=img1, format='png', width=600, height=500)\n",
    "img2=open('Monocyte2_11_Master_11_overlap.png','rb').read()\n",
    "wi2 = widgets.Image(value=img2, format='png', width=600, height=500)\n",
    "\n",
    "# Display\n",
    "images=[wi1,wi2]\n",
    "widgets=widgets.HBox(images)\n",
    "display.display(widgets)"
   ]
  },
  {
   "cell_type": "code",
   "execution_count": 16,
   "metadata": {},
   "outputs": [],
   "source": [
    "# Overlap for Monocyte1\n",
    "# display.Image(\"Monocyte1_11_Master_11_overlap.png\")"
   ]
  },
  {
   "cell_type": "code",
   "execution_count": 17,
   "metadata": {},
   "outputs": [],
   "source": [
    "# Overlap for Monocyte2\n",
    "# display.Image(\"Monocyte2_11_Master_11_overlap.png\")"
   ]
  },
  {
   "cell_type": "markdown",
   "metadata": {},
   "source": [
    "### (3.2) **External annotations**\n",
    "\n",
    "In the **overlap files**:\n",
    "\n",
    "* The last row indicates the percentage of the genome that each external annotation covers\n",
    "\n",
    "* The second column contains the **percentage** of the genome each state covers.\n",
    "\n",
    "* The remaining rows correspond to different states, and the remaining columns correspond to different external annotations. The values in these rows and columns correspond to the **fold enrichments** for the presence of the external annotation in the state. \n",
    "\n",
    "* The **fold enrichments** are computed as the ratio of the fraction of bases assigned to the state that are in the external category to the fraction of bases in the genome that are in the external category."
   ]
  },
  {
   "cell_type": "code",
   "execution_count": 18,
   "metadata": {},
   "outputs": [],
   "source": [
    "# Overlap files\n",
    "overlap1 = pd.read_csv(\"Monocyte1_11_Master_11_overlap.txt\", sep=\"\\t\", index_col=0, header=\"infer\")\n",
    "overlap2 = pd.read_csv(\"Monocyte2_11_Master_11_overlap.txt\", sep=\"\\t\", index_col=0, header=\"infer\")"
   ]
  },
  {
   "cell_type": "code",
   "execution_count": 19,
   "metadata": {},
   "outputs": [
    {
     "data": {
      "text/html": [
       "<div>\n",
       "<style scoped>\n",
       "    .dataframe tbody tr th:only-of-type {\n",
       "        vertical-align: middle;\n",
       "    }\n",
       "\n",
       "    .dataframe tbody tr th {\n",
       "        vertical-align: top;\n",
       "    }\n",
       "\n",
       "    .dataframe thead th {\n",
       "        text-align: right;\n",
       "    }\n",
       "</style>\n",
       "<table border=\"1\" class=\"dataframe\">\n",
       "  <thead>\n",
       "    <tr style=\"text-align: right;\">\n",
       "      <th></th>\n",
       "      <th>Genome %</th>\n",
       "      <th>CpGIsland.hg19.bed.gz</th>\n",
       "      <th>RefSeqExon.hg19.bed.gz</th>\n",
       "      <th>RefSeqGene.hg19.bed.gz</th>\n",
       "      <th>RefSeqTES.hg19.bed.gz</th>\n",
       "      <th>RefSeqTSS.hg19.bed.gz</th>\n",
       "      <th>RefSeqTSS2kb.hg19.bed.gz</th>\n",
       "      <th>laminB1lads.hg19.bed.gz</th>\n",
       "    </tr>\n",
       "    <tr>\n",
       "      <th>state (Emission order)</th>\n",
       "      <th></th>\n",
       "      <th></th>\n",
       "      <th></th>\n",
       "      <th></th>\n",
       "      <th></th>\n",
       "      <th></th>\n",
       "      <th></th>\n",
       "      <th></th>\n",
       "    </tr>\n",
       "  </thead>\n",
       "  <tbody>\n",
       "    <tr>\n",
       "      <th>1</th>\n",
       "      <td>0.40137</td>\n",
       "      <td>74.89854</td>\n",
       "      <td>10.49836</td>\n",
       "      <td>1.65037</td>\n",
       "      <td>2.63995</td>\n",
       "      <td>81.44753</td>\n",
       "      <td>23.80095</td>\n",
       "      <td>0.23949</td>\n",
       "    </tr>\n",
       "    <tr>\n",
       "      <th>2</th>\n",
       "      <td>0.88383</td>\n",
       "      <td>5.43656</td>\n",
       "      <td>2.70658</td>\n",
       "      <td>1.50790</td>\n",
       "      <td>2.81318</td>\n",
       "      <td>5.69143</td>\n",
       "      <td>9.45445</td>\n",
       "      <td>0.32567</td>\n",
       "    </tr>\n",
       "    <tr>\n",
       "      <th>3</th>\n",
       "      <td>1.28059</td>\n",
       "      <td>0.28180</td>\n",
       "      <td>1.90533</td>\n",
       "      <td>1.60112</td>\n",
       "      <td>2.05081</td>\n",
       "      <td>0.91093</td>\n",
       "      <td>1.70562</td>\n",
       "      <td>0.35022</td>\n",
       "    </tr>\n",
       "    <tr>\n",
       "      <th>4</th>\n",
       "      <td>2.86578</td>\n",
       "      <td>0.31482</td>\n",
       "      <td>0.98772</td>\n",
       "      <td>1.35721</td>\n",
       "      <td>1.38133</td>\n",
       "      <td>0.94440</td>\n",
       "      <td>2.59023</td>\n",
       "      <td>0.45625</td>\n",
       "    </tr>\n",
       "    <tr>\n",
       "      <th>5</th>\n",
       "      <td>0.45894</td>\n",
       "      <td>16.80668</td>\n",
       "      <td>3.65947</td>\n",
       "      <td>1.37630</td>\n",
       "      <td>2.78117</td>\n",
       "      <td>16.60881</td>\n",
       "      <td>13.76879</td>\n",
       "      <td>0.37878</td>\n",
       "    </tr>\n",
       "    <tr>\n",
       "      <th>6</th>\n",
       "      <td>0.37829</td>\n",
       "      <td>57.33654</td>\n",
       "      <td>6.82791</td>\n",
       "      <td>1.33658</td>\n",
       "      <td>3.57747</td>\n",
       "      <td>26.84727</td>\n",
       "      <td>16.17356</td>\n",
       "      <td>0.46718</td>\n",
       "    </tr>\n",
       "    <tr>\n",
       "      <th>7</th>\n",
       "      <td>3.53242</td>\n",
       "      <td>4.84496</td>\n",
       "      <td>1.73920</td>\n",
       "      <td>1.00473</td>\n",
       "      <td>1.87599</td>\n",
       "      <td>2.84629</td>\n",
       "      <td>4.10311</td>\n",
       "      <td>0.83328</td>\n",
       "    </tr>\n",
       "    <tr>\n",
       "      <th>8</th>\n",
       "      <td>80.74127</td>\n",
       "      <td>0.13347</td>\n",
       "      <td>0.53607</td>\n",
       "      <td>0.85669</td>\n",
       "      <td>0.63031</td>\n",
       "      <td>0.31712</td>\n",
       "      <td>0.48695</td>\n",
       "      <td>1.12618</td>\n",
       "    </tr>\n",
       "    <tr>\n",
       "      <th>9</th>\n",
       "      <td>0.40788</td>\n",
       "      <td>1.01954</td>\n",
       "      <td>1.42572</td>\n",
       "      <td>1.02982</td>\n",
       "      <td>1.86903</td>\n",
       "      <td>1.16516</td>\n",
       "      <td>1.26673</td>\n",
       "      <td>0.80337</td>\n",
       "    </tr>\n",
       "    <tr>\n",
       "      <th>10</th>\n",
       "      <td>7.50206</td>\n",
       "      <td>0.58699</td>\n",
       "      <td>4.19375</td>\n",
       "      <td>2.21395</td>\n",
       "      <td>3.55896</td>\n",
       "      <td>0.45784</td>\n",
       "      <td>0.60956</td>\n",
       "      <td>0.27742</td>\n",
       "    </tr>\n",
       "    <tr>\n",
       "      <th>11</th>\n",
       "      <td>1.54756</td>\n",
       "      <td>1.13502</td>\n",
       "      <td>1.54507</td>\n",
       "      <td>0.76178</td>\n",
       "      <td>1.45976</td>\n",
       "      <td>0.68399</td>\n",
       "      <td>0.74051</td>\n",
       "      <td>0.79324</td>\n",
       "    </tr>\n",
       "    <tr>\n",
       "      <th>Base</th>\n",
       "      <td>100.00000</td>\n",
       "      <td>0.69283</td>\n",
       "      <td>2.48814</td>\n",
       "      <td>42.74052</td>\n",
       "      <td>0.00094</td>\n",
       "      <td>0.00107</td>\n",
       "      <td>3.45896</td>\n",
       "      <td>37.26170</td>\n",
       "    </tr>\n",
       "  </tbody>\n",
       "</table>\n",
       "</div>"
      ],
      "text/plain": [
       "                         Genome %  CpGIsland.hg19.bed.gz  \\\n",
       "state (Emission order)                                     \n",
       "1                         0.40137               74.89854   \n",
       "2                         0.88383                5.43656   \n",
       "3                         1.28059                0.28180   \n",
       "4                         2.86578                0.31482   \n",
       "5                         0.45894               16.80668   \n",
       "6                         0.37829               57.33654   \n",
       "7                         3.53242                4.84496   \n",
       "8                        80.74127                0.13347   \n",
       "9                         0.40788                1.01954   \n",
       "10                        7.50206                0.58699   \n",
       "11                        1.54756                1.13502   \n",
       "Base                    100.00000                0.69283   \n",
       "\n",
       "                        RefSeqExon.hg19.bed.gz  RefSeqGene.hg19.bed.gz  \\\n",
       "state (Emission order)                                                   \n",
       "1                                     10.49836                 1.65037   \n",
       "2                                      2.70658                 1.50790   \n",
       "3                                      1.90533                 1.60112   \n",
       "4                                      0.98772                 1.35721   \n",
       "5                                      3.65947                 1.37630   \n",
       "6                                      6.82791                 1.33658   \n",
       "7                                      1.73920                 1.00473   \n",
       "8                                      0.53607                 0.85669   \n",
       "9                                      1.42572                 1.02982   \n",
       "10                                     4.19375                 2.21395   \n",
       "11                                     1.54507                 0.76178   \n",
       "Base                                   2.48814                42.74052   \n",
       "\n",
       "                        RefSeqTES.hg19.bed.gz  RefSeqTSS.hg19.bed.gz  \\\n",
       "state (Emission order)                                                 \n",
       "1                                     2.63995               81.44753   \n",
       "2                                     2.81318                5.69143   \n",
       "3                                     2.05081                0.91093   \n",
       "4                                     1.38133                0.94440   \n",
       "5                                     2.78117               16.60881   \n",
       "6                                     3.57747               26.84727   \n",
       "7                                     1.87599                2.84629   \n",
       "8                                     0.63031                0.31712   \n",
       "9                                     1.86903                1.16516   \n",
       "10                                    3.55896                0.45784   \n",
       "11                                    1.45976                0.68399   \n",
       "Base                                  0.00094                0.00107   \n",
       "\n",
       "                        RefSeqTSS2kb.hg19.bed.gz  laminB1lads.hg19.bed.gz  \n",
       "state (Emission order)                                                     \n",
       "1                                       23.80095                  0.23949  \n",
       "2                                        9.45445                  0.32567  \n",
       "3                                        1.70562                  0.35022  \n",
       "4                                        2.59023                  0.45625  \n",
       "5                                       13.76879                  0.37878  \n",
       "6                                       16.17356                  0.46718  \n",
       "7                                        4.10311                  0.83328  \n",
       "8                                        0.48695                  1.12618  \n",
       "9                                        1.26673                  0.80337  \n",
       "10                                       0.60956                  0.27742  \n",
       "11                                       0.74051                  0.79324  \n",
       "Base                                     3.45896                 37.26170  "
      ]
     },
     "execution_count": 19,
     "metadata": {},
     "output_type": "execute_result"
    }
   ],
   "source": [
    "overlap1"
   ]
  },
  {
   "cell_type": "code",
   "execution_count": 20,
   "metadata": {},
   "outputs": [
    {
     "data": {
      "text/html": [
       "<div>\n",
       "<style scoped>\n",
       "    .dataframe tbody tr th:only-of-type {\n",
       "        vertical-align: middle;\n",
       "    }\n",
       "\n",
       "    .dataframe tbody tr th {\n",
       "        vertical-align: top;\n",
       "    }\n",
       "\n",
       "    .dataframe thead th {\n",
       "        text-align: right;\n",
       "    }\n",
       "</style>\n",
       "<table border=\"1\" class=\"dataframe\">\n",
       "  <thead>\n",
       "    <tr style=\"text-align: right;\">\n",
       "      <th></th>\n",
       "      <th>Genome %</th>\n",
       "      <th>CpGIsland.hg19.bed.gz</th>\n",
       "      <th>RefSeqExon.hg19.bed.gz</th>\n",
       "      <th>RefSeqGene.hg19.bed.gz</th>\n",
       "      <th>RefSeqTES.hg19.bed.gz</th>\n",
       "      <th>RefSeqTSS.hg19.bed.gz</th>\n",
       "      <th>RefSeqTSS2kb.hg19.bed.gz</th>\n",
       "      <th>laminB1lads.hg19.bed.gz</th>\n",
       "    </tr>\n",
       "    <tr>\n",
       "      <th>state (Emission order)</th>\n",
       "      <th></th>\n",
       "      <th></th>\n",
       "      <th></th>\n",
       "      <th></th>\n",
       "      <th></th>\n",
       "      <th></th>\n",
       "      <th></th>\n",
       "      <th></th>\n",
       "    </tr>\n",
       "  </thead>\n",
       "  <tbody>\n",
       "    <tr>\n",
       "      <th>1</th>\n",
       "      <td>0.44133</td>\n",
       "      <td>67.48787</td>\n",
       "      <td>9.65246</td>\n",
       "      <td>1.64552</td>\n",
       "      <td>2.56729</td>\n",
       "      <td>74.76465</td>\n",
       "      <td>22.76300</td>\n",
       "      <td>0.26428</td>\n",
       "    </tr>\n",
       "    <tr>\n",
       "      <th>2</th>\n",
       "      <td>0.87704</td>\n",
       "      <td>6.34021</td>\n",
       "      <td>2.68710</td>\n",
       "      <td>1.49212</td>\n",
       "      <td>2.64756</td>\n",
       "      <td>5.72495</td>\n",
       "      <td>8.97630</td>\n",
       "      <td>0.33761</td>\n",
       "    </tr>\n",
       "    <tr>\n",
       "      <th>3</th>\n",
       "      <td>1.01479</td>\n",
       "      <td>0.40985</td>\n",
       "      <td>2.21323</td>\n",
       "      <td>1.62178</td>\n",
       "      <td>2.28126</td>\n",
       "      <td>1.10390</td>\n",
       "      <td>1.76557</td>\n",
       "      <td>0.35291</td>\n",
       "    </tr>\n",
       "    <tr>\n",
       "      <th>4</th>\n",
       "      <td>2.18908</td>\n",
       "      <td>0.70327</td>\n",
       "      <td>1.12408</td>\n",
       "      <td>1.35295</td>\n",
       "      <td>1.52239</td>\n",
       "      <td>1.40269</td>\n",
       "      <td>2.82142</td>\n",
       "      <td>0.41765</td>\n",
       "    </tr>\n",
       "    <tr>\n",
       "      <th>5</th>\n",
       "      <td>0.59483</td>\n",
       "      <td>13.37636</td>\n",
       "      <td>3.07783</td>\n",
       "      <td>1.38349</td>\n",
       "      <td>2.58089</td>\n",
       "      <td>12.22844</td>\n",
       "      <td>11.72701</td>\n",
       "      <td>0.40153</td>\n",
       "    </tr>\n",
       "    <tr>\n",
       "      <th>6</th>\n",
       "      <td>0.34489</td>\n",
       "      <td>58.45514</td>\n",
       "      <td>6.92648</td>\n",
       "      <td>1.33707</td>\n",
       "      <td>3.37642</td>\n",
       "      <td>26.61092</td>\n",
       "      <td>16.24322</td>\n",
       "      <td>0.48230</td>\n",
       "    </tr>\n",
       "    <tr>\n",
       "      <th>7</th>\n",
       "      <td>4.86190</td>\n",
       "      <td>3.35929</td>\n",
       "      <td>1.40043</td>\n",
       "      <td>0.96559</td>\n",
       "      <td>1.58598</td>\n",
       "      <td>2.14098</td>\n",
       "      <td>3.12294</td>\n",
       "      <td>0.95782</td>\n",
       "    </tr>\n",
       "    <tr>\n",
       "      <th>8</th>\n",
       "      <td>79.69375</td>\n",
       "      <td>0.13868</td>\n",
       "      <td>0.52885</td>\n",
       "      <td>0.85982</td>\n",
       "      <td>0.62301</td>\n",
       "      <td>0.31548</td>\n",
       "      <td>0.49330</td>\n",
       "      <td>1.12101</td>\n",
       "    </tr>\n",
       "    <tr>\n",
       "      <th>9</th>\n",
       "      <td>0.79116</td>\n",
       "      <td>1.49248</td>\n",
       "      <td>1.79957</td>\n",
       "      <td>1.04435</td>\n",
       "      <td>2.35150</td>\n",
       "      <td>1.57197</td>\n",
       "      <td>1.63290</td>\n",
       "      <td>0.68811</td>\n",
       "    </tr>\n",
       "    <tr>\n",
       "      <th>10</th>\n",
       "      <td>7.59506</td>\n",
       "      <td>0.56182</td>\n",
       "      <td>4.16511</td>\n",
       "      <td>2.21596</td>\n",
       "      <td>3.51492</td>\n",
       "      <td>0.45792</td>\n",
       "      <td>0.60391</td>\n",
       "      <td>0.28125</td>\n",
       "    </tr>\n",
       "    <tr>\n",
       "      <th>11</th>\n",
       "      <td>1.59618</td>\n",
       "      <td>1.09610</td>\n",
       "      <td>1.53140</td>\n",
       "      <td>0.75191</td>\n",
       "      <td>1.42843</td>\n",
       "      <td>0.66895</td>\n",
       "      <td>0.72750</td>\n",
       "      <td>0.77369</td>\n",
       "    </tr>\n",
       "    <tr>\n",
       "      <th>Base</th>\n",
       "      <td>100.00000</td>\n",
       "      <td>0.69283</td>\n",
       "      <td>2.48814</td>\n",
       "      <td>42.74052</td>\n",
       "      <td>0.00094</td>\n",
       "      <td>0.00107</td>\n",
       "      <td>3.45896</td>\n",
       "      <td>37.26170</td>\n",
       "    </tr>\n",
       "  </tbody>\n",
       "</table>\n",
       "</div>"
      ],
      "text/plain": [
       "                         Genome %  CpGIsland.hg19.bed.gz  \\\n",
       "state (Emission order)                                     \n",
       "1                         0.44133               67.48787   \n",
       "2                         0.87704                6.34021   \n",
       "3                         1.01479                0.40985   \n",
       "4                         2.18908                0.70327   \n",
       "5                         0.59483               13.37636   \n",
       "6                         0.34489               58.45514   \n",
       "7                         4.86190                3.35929   \n",
       "8                        79.69375                0.13868   \n",
       "9                         0.79116                1.49248   \n",
       "10                        7.59506                0.56182   \n",
       "11                        1.59618                1.09610   \n",
       "Base                    100.00000                0.69283   \n",
       "\n",
       "                        RefSeqExon.hg19.bed.gz  RefSeqGene.hg19.bed.gz  \\\n",
       "state (Emission order)                                                   \n",
       "1                                      9.65246                 1.64552   \n",
       "2                                      2.68710                 1.49212   \n",
       "3                                      2.21323                 1.62178   \n",
       "4                                      1.12408                 1.35295   \n",
       "5                                      3.07783                 1.38349   \n",
       "6                                      6.92648                 1.33707   \n",
       "7                                      1.40043                 0.96559   \n",
       "8                                      0.52885                 0.85982   \n",
       "9                                      1.79957                 1.04435   \n",
       "10                                     4.16511                 2.21596   \n",
       "11                                     1.53140                 0.75191   \n",
       "Base                                   2.48814                42.74052   \n",
       "\n",
       "                        RefSeqTES.hg19.bed.gz  RefSeqTSS.hg19.bed.gz  \\\n",
       "state (Emission order)                                                 \n",
       "1                                     2.56729               74.76465   \n",
       "2                                     2.64756                5.72495   \n",
       "3                                     2.28126                1.10390   \n",
       "4                                     1.52239                1.40269   \n",
       "5                                     2.58089               12.22844   \n",
       "6                                     3.37642               26.61092   \n",
       "7                                     1.58598                2.14098   \n",
       "8                                     0.62301                0.31548   \n",
       "9                                     2.35150                1.57197   \n",
       "10                                    3.51492                0.45792   \n",
       "11                                    1.42843                0.66895   \n",
       "Base                                  0.00094                0.00107   \n",
       "\n",
       "                        RefSeqTSS2kb.hg19.bed.gz  laminB1lads.hg19.bed.gz  \n",
       "state (Emission order)                                                     \n",
       "1                                       22.76300                  0.26428  \n",
       "2                                        8.97630                  0.33761  \n",
       "3                                        1.76557                  0.35291  \n",
       "4                                        2.82142                  0.41765  \n",
       "5                                       11.72701                  0.40153  \n",
       "6                                       16.24322                  0.48230  \n",
       "7                                        3.12294                  0.95782  \n",
       "8                                        0.49330                  1.12101  \n",
       "9                                        1.63290                  0.68811  \n",
       "10                                       0.60391                  0.28125  \n",
       "11                                       0.72750                  0.77369  \n",
       "Base                                     3.45896                 37.26170  "
      ]
     },
     "execution_count": 20,
     "metadata": {},
     "output_type": "execute_result"
    }
   ],
   "source": [
    "overlap2"
   ]
  },
  {
   "cell_type": "code",
   "execution_count": 36,
   "metadata": {},
   "outputs": [],
   "source": [
    "# Just for Genome Coverage\n",
    "def annotate_genome(state, rep1df, rep2df):\n",
    "    \n",
    "    # Values for y, x-axes\n",
    "    genome_perc = [rep1df.loc[str(state), \"Genome %\"], rep2df.loc[str(state), \"Genome %\"]]  # Note: str(state)\n",
    "    labels = [\"Monocyte1\", \"Monocyte2\"]\n",
    "    \n",
    "    # Plot\n",
    "    plt.ylabel(\"Genome %\", fontsize=10, fontweight='bold')\n",
    "    plt.xlabel(\"Replicate\", fontsize=10, fontweight='bold')\n",
    "    plt.title(\"Genome coverage\", size=\"x-large\", fontweight='bold')\n",
    "    plt.bar(labels, genome_perc, width=0.75)\n",
    "    plt.show()"
   ]
  },
  {
   "cell_type": "code",
   "execution_count": 37,
   "metadata": {},
   "outputs": [],
   "source": [
    "# Ref: https://pythonguides.com/matplotlib-multiple-bar-chart/\n",
    "# Just for External Annotations\n",
    "def external_annotations(rep1df, rep2df):\n",
    "    \n",
    "    # Replicate dataframes\n",
    "    rep1df_noG = rep1df.drop(['Genome %'], axis=1)\n",
    "    rep2df_noG = rep2df.drop(['Genome %'], axis=1)\n",
    "\n",
    "    # Define Data\n",
    "    labels = list(rep1df_noG.columns)\n",
    "    rep1 = rep1df_noG.loc[str(state),].to_numpy()  # Note: str(state)\n",
    "    rep2 = rep2df_noG.loc[str(state),].to_numpy()  # Note: str(state)\n",
    "\n",
    "    # Multi bar Chart\n",
    "    x_axis = np.arange(len(labels))\n",
    "    plt.bar(x_axis -0.2, rep1, width=0.4, label = 'Monocyte1')\n",
    "    plt.bar(x_axis +0.2, rep2, width=0.4, label = 'Monocyte2')\n",
    "\n",
    "    # Xticks, Labels & Legend\n",
    "    plt.xticks(x_axis, labels, rotation=45)\n",
    "    plt.xlabel(\"Annotations\", fontsize=10, fontweight='bold')\n",
    "    plt.ylabel(\"Fold Enrichment\", fontsize=10, fontweight='bold')\n",
    "    plt.title(\"External Annotation\", size=\"x-large\", fontweight='bold')\n",
    "    plt.legend()\n",
    "\n",
    "    # Final Display\n",
    "    plt.show()"
   ]
  },
  {
   "cell_type": "code",
   "execution_count": 110,
   "metadata": {},
   "outputs": [],
   "source": [
    "# Final, composed function\n",
    "def complete_external_annotations(state, rep1df, rep2df):\n",
    "    \n",
    "    # Global Figure\n",
    "    fig = plt.figure(state, figsize=(15,7))\n",
    "    \n",
    "    # GENOME COVERAGE\n",
    "    # Values for y, x-axes\n",
    "    genome_perc = [rep1df.loc[str(state), \"Genome %\"], rep2df.loc[str(state), \"Genome %\"]]  # Note: str(state)\n",
    "    labels = [\"Monocyte1\", \"Monocyte2\"]\n",
    "    \n",
    "    # Plot\n",
    "    ax1 = fig.add_subplot(121)\n",
    "    ax1.set_ylabel(\"Genome %\", fontsize=10, fontweight='bold')\n",
    "    ax1.set_xlabel(\"Replicate\", fontsize=10, fontweight='bold')\n",
    "    ax1.set_title(\"Genome coverage\", size=\"x-large\", fontweight='bold')\n",
    "    ax1.bar(labels, genome_perc, width=0.6)\n",
    "    \n",
    "    # EXTERNAL ANNOTATIONS\n",
    "    # Replicate dataframes\n",
    "    rep1df_noG = rep1df.drop(['Genome %'], axis=1)\n",
    "    rep2df_noG = rep2df.drop(['Genome %'], axis=1)\n",
    "\n",
    "    # Define Data\n",
    "    labels = [name.split(\".\")[0] for name in list(rep1df_noG.columns)]\n",
    "    rep1 = rep1df_noG.loc[str(state),].to_numpy()  # Note: str(state)\n",
    "    rep2 = rep2df_noG.loc[str(state),].to_numpy()  # Note: str(state)\n",
    "\n",
    "    # Multi bar Chart\n",
    "    ax2 = fig.add_subplot(122)\n",
    "    x_axis = np.arange(len(labels))\n",
    "    ax2.bar(x_axis -0.2, rep1, width=0.4, label = 'Monocyte1')\n",
    "    ax2.bar(x_axis +0.2, rep2, width=0.4, label = 'Monocyte2')\n",
    "\n",
    "    # Xticks, Labels & Legend\n",
    "    ax2.set_xticks(x_axis, labels, rotation=55, fontsize=14)\n",
    "    ax2.set_ylabel(\"Fold Enrichment\", fontsize=10, fontweight='bold')\n",
    "    ax2.set_xlabel(\"Annotations\", fontsize=10, fontweight='bold')\n",
    "    ax2.set_title(\"External Annotation\", size=\"x-large\", fontweight='bold')\n",
    "    ax2.legend()\n",
    "\n",
    "    # Final Display\n",
    "    fig.suptitle(f\"State: E{state}\\n=======\", fontsize=16)\n",
    "    fig.show()"
   ]
  },
  {
   "cell_type": "code",
   "execution_count": 111,
   "metadata": {},
   "outputs": [
    {
     "name": "stdout",
     "output_type": "stream",
     "text": [
      "\n",
      "\n",
      "\n",
      "\n"
     ]
    },
    {
     "data": {
      "image/png": "[encoded data removed]",
      "text/plain": [
       "<Figure size 1080x504 with 2 Axes>"
      ]
     },
     "metadata": {
      "needs_background": "light"
     },
     "output_type": "display_data"
    },
    {
     "data": {
      "image/png": "[encoded data removed]",
      "text/plain": [
       "<Figure size 1080x504 with 2 Axes>"
      ]
     },
     "metadata": {
      "needs_background": "light"
     },
     "output_type": "display_data"
    },
    {
     "data": {
      "image/png": "[encoded data removed]",
      "text/plain": [
       "<Figure size 1080x504 with 2 Axes>"
      ]
     },
     "metadata": {
      "needs_background": "light"
     },
     "output_type": "display_data"
    },
    {
     "data": {
      "image/png": "[encoded data removed]",
      "text/plain": [
       "<Figure size 1080x504 with 2 Axes>"
      ]
     },
     "metadata": {
      "needs_background": "light"
     },
     "output_type": "display_data"
    }
   ],
   "source": [
    "# For each one of our selected states\n",
    "for state in list(states_for_CTCF):\n",
    "    complete_external_annotations(state, overlap1, overlap2)\n",
    "    print()"
   ]
  },
  {
   "cell_type": "markdown",
   "metadata": {},
   "source": [
    "### (3.3) **Further annotation with bed files**"
   ]
  },
  {
   "cell_type": "code",
   "execution_count": 101,
   "metadata": {},
   "outputs": [
    {
     "name": "stdout",
     "output_type": "stream",
     "text": [
      "track name=\"Monocyte2_11_Master_11\" description=\" Monocyte2_11_Master_11 (Emission ordered)\" visibility=1 itemRgb=\"On\"\n",
      "chr10\t0\t73800\t8\t0\t.\t0\t73800\t255,0,204\n",
      "chr10\t73800\t75000\t11\t0\t.\t73800\t75000\t255,255,0\n",
      "chr10\t75000\t78000\t8\t0\t.\t75000\t78000\t255,0,204\n",
      "chr10\t78000\t78400\t11\t0\t.\t78000\t78400\t255,255,0\n",
      "chr10\t78400\t95200\t8\t0\t.\t78400\t95200\t255,0,204\n",
      "chr10\t95200\t96600\t11\t0\t.\t95200\t96600\t255,255,0\n",
      "chr10\t96600\t102800\t8\t0\t.\t96600\t102800\t255,0,204\n",
      "chr10\t102800\t104800\t11\t0\t.\t102800\t104800\t255,255,0\n",
      "chr10\t104800\t107400\t8\t0\t.\t104800\t107400\t255,0,204\n",
      "cat: write error: Broken pipe\n"
     ]
    }
   ],
   "source": [
    "!cat Monocyte2_11_Master_11_dense.bed | head"
   ]
  },
  {
   "cell_type": "markdown",
   "metadata": {},
   "source": [
    "### (x) **Bibliography**\n",
    "\n",
    "[1] Ernst, J., Kellis, M. *Chromatin-state discovery and genome annotation with ChromHMM*. Nat Protoc 12, 2478–2492 (2017). https://doi.org/10.1038/nprot.2017.124"
   ]
  },
  {
   "cell_type": "markdown",
   "metadata": {},
   "source": []
  }
 ],
 "metadata": {
  "interpreter": {
   "hash": "e4ee870ab444af8a8689fba9fdb6a16993f9af4d6f8c51486b98fd7ee4129479"
  },
  "kernelspec": {
   "display_name": "Python 3 (ipykernel)",
   "language": "python",
   "name": "python3"
  },
  "language_info": {
   "codemirror_mode": {
    "name": "ipython",
    "version": 3
   },
   "file_extension": ".py",
   "mimetype": "text/x-python",
   "name": "python",
   "nbconvert_exporter": "python",
   "pygments_lexer": "ipython3",
   "version": "3.9.7"
  }
 },
 "nbformat": 4,
 "nbformat_minor": 2
}
